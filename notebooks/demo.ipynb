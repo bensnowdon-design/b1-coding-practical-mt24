{
 "cells": [
  {
   "cell_type": "code",
   "execution_count": null,
   "metadata": {},
   "outputs": [],
   "source": [
    "# PD Controller demo\n",
    "# This cell ensures the repository root is on sys.path when running from the notebooks folder\n",
    "import sys\n",
    "sys.path.insert(0, '..')  # ensure repository root is on path when running the notebook from /notebooks\n",
    "import numpy as np\n",
    "from uuv_mission.dynamic import Mission, Submarine, ClosedLoop\n",
    "from uuv_mission.control import PDController\n",
    "import matplotlib.pyplot as plt\n",
    "plt.style.use('seaborn')\n"
   ]
  },
  {
   "cell_type": "code",
   "execution_count": null,
   "metadata": {},
   "outputs": [],
   "source": [
    "# Quick path check (kept for debugging)\n",
    "import sys\n",
    "print('Python path[0]=', sys.path[0])\n"
   ]
  },
  {
   "cell_type": "markdown",
   "metadata": {},
   "source": [
    "# Simulate closed-loop\n",
    "\n",
    "This notebook demonstrates the PD controller (KP=0.15, KD=0.6) controlling the `Submarine` along the mission defined in `data/mission.csv`. It runs a closed-loop simulation with random disturbances and plots the completed mission and trajectory.\n"
   ]
  },
  {
   "cell_type": "code",
   "execution_count": null,
   "metadata": {},
   "outputs": [],
   "source": [
    "# Load mission from CSV\n",
    "mission = Mission.from_csv('../data/mission.csv')\n",
    "\n",
    "# Create plant and controller\n",
    "plant = Submarine()\n",
    "controller = PDController(kp=0.15, kd=0.6)\n",
    "closed_loop = ClosedLoop(plant, controller)\n",
    "\n",
    "# Run simulation with random disturbances and plot\n",
    "traj = closed_loop.simulate_with_random_disturbances(mission, variance=0.5)\n",
    "traj.plot_completed_mission(mission)\n"
   ]
  },
  {
   "cell_type": "markdown",
   "metadata": {},
   "source": [
    "Notes:\n",
    "\n",
    "- Adjust `KP` and `KD` in `uuv_mission/control.py` or when instantiating `PDController` to tune performance.\n",
    "- The `Submarine` model is simple; tune controller gains conservatively.\n"
   ]
  }
 ],
 "metadata": {
  "kernelspec": {
   "display_name": "first-venv",
   "language": "python",
   "name": "python3"
  },
  "language_info": {
   "codemirror_mode": {
    "name": "ipython",
    "version": 3
   },
   "file_extension": ".py",
   "mimetype": "text/x-python",
   "name": "python",
   "nbconvert_exporter": "python",
   "pygments_lexer": "ipython3",
   "version": "3.9.12"
  }
 },
 "nbformat": 4,
 "nbformat_minor": 2
}
